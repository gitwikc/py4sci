{
 "cells": [
  {
   "cell_type": "code",
   "execution_count": 10,
   "metadata": {},
   "outputs": [],
   "source": [
    "import numpy as np"
   ]
  },
  {
   "cell_type": "markdown",
   "metadata": {},
   "source": [
    "# Arrays in Numpy\n",
    "\n",
    "## Dimensions\n",
    "1. Every array in numpy can be thought of as a matrix\n",
    "2. You can perform several operations on these matrices using functions available in numpy itself\n",
    "3. Let's see how we can create an array"
   ]
  },
  {
   "cell_type": "code",
   "execution_count": 11,
   "metadata": {},
   "outputs": [
    {
     "name": "stdout",
     "output_type": "stream",
     "text": [
      "1-D Numpy Array:  [0 1 2 3]\n",
      "\n",
      "Dimension of the Numpy Array:  1\n",
      "\n",
      "Shape of the Numpy Array:  (4,)\n"
     ]
    }
   ],
   "source": [
    "a = np.array([0, 1, 2, 3]) # Manually creating a 1-D Numpy Array\n",
    "print(\"1-D Numpy Array: \", a)\n",
    "print()\n",
    "\n",
    "print(\"Dimension of the Numpy Array: \" , a.ndim) # Dimension of the Numpy Array\n",
    "print()\n",
    "\n",
    "print(\"Shape of the Numpy Array: \", a.shape) # Shape of the Numpy Array"
   ]
  },
  {
   "cell_type": "code",
   "execution_count": 13,
   "metadata": {},
   "outputs": [
    {
     "name": "stdout",
     "output_type": "stream",
     "text": [
      "2-D Numpy Array:\n",
      "[[1 2 3 4]\n",
      " [5 6 7 8]]\n",
      "\n",
      "Dimension of the Numpy Array:  2\n",
      "\n",
      "Shape of the Numpy Array:  (2, 4)\n"
     ]
    }
   ],
   "source": [
    "b = np.array([[1,2,3,4], [5,6,7,8]]) # Manually creating a 2-D Numpy Array\n",
    "print(\"2-D Numpy Array:\")\n",
    "print(b)\n",
    "print()\n",
    "\n",
    "print(\"Dimension of the Numpy Array: \" , b.ndim) # Dimension of the Numpy Array\n",
    "print()\n",
    "\n",
    "print(\"Shape of the Numpy Array: \", b.shape) # Shape of the Numpy Array"
   ]
  },
  {
   "cell_type": "markdown",
   "metadata": {},
   "source": [
    "#### **3-D Numpy Array**"
   ]
  },
  {
   "cell_type": "code",
   "execution_count": 15,
   "metadata": {},
   "outputs": [
    {
     "name": "stdout",
     "output_type": "stream",
     "text": [
      "3-D Numpy Array:\n",
      "[[[1]\n",
      "  [2]]\n",
      "\n",
      " [[3]\n",
      "  [4]]]\n",
      "\n",
      "Dimension of the Numpy Array:  3\n",
      "\n",
      "Shape of the Numpy Array:  (2, 2, 1)\n"
     ]
    }
   ],
   "source": [
    "c = np.array([[[1], [2]], [[3], [4]]]) # Manually creating a 3-D Numpy Array\n",
    "print(\"3-D Numpy Array:\")\n",
    "print(c)\n",
    "print()\n",
    "\n",
    "print(\"Dimension of the Numpy Array: \" , c.ndim) # Dimension of the Numpy Array\n",
    "print()\n",
    "\n",
    "print(\"Shape of the Numpy Array: \", c.shape) # Shape of the Numpy Array"
   ]
  },
  {
   "cell_type": "markdown",
   "metadata": {},
   "source": [
    "### Functions for creating Numpy Arrays"
   ]
  },
  {
   "cell_type": "code",
   "execution_count": 16,
   "metadata": {},
   "outputs": [
    {
     "name": "stdout",
     "output_type": "stream",
     "text": [
      "[0 1 2 3 4 5 6 7 8 9]\n"
     ]
    }
   ],
   "source": [
    "a1 = np.arange(10)  # 0 .. n-1  (!)\n",
    "print(a1)"
   ]
  },
  {
   "cell_type": "code",
   "execution_count": 19,
   "metadata": {},
   "outputs": [
    {
     "name": "stdout",
     "output_type": "stream",
     "text": [
      "[1 3 5 7]\n",
      "\n",
      "[0.  0.2 0.4 0.6 0.8 1. ]\n",
      "\n",
      "[0.  0.2 0.4 0.6 0.8]\n",
      "\n"
     ]
    }
   ],
   "source": [
    "b1 = np.arange(1, 9, 2)  # start, end (exclusive), step\n",
    "print(b1)\n",
    "print()\n",
    "\n",
    "c1 = np.linspace(0, 1, 6)  # start, end, num-points\n",
    "print(c1)\n",
    "print()\n",
    "\n",
    "d = np.linspace(0, 1, 5, endpoint=False)\n",
    "print(d)\n",
    "print()"
   ]
  },
  {
   "cell_type": "code",
   "execution_count": 20,
   "metadata": {},
   "outputs": [
    {
     "name": "stdout",
     "output_type": "stream",
     "text": [
      "3-D Array of ones: \n",
      "[[1. 1. 1.]\n",
      " [1. 1. 1.]\n",
      " [1. 1. 1.]]\n",
      "\n",
      "2-D Array of zeros: \n",
      "[[0. 0.]\n",
      " [0. 0.]]\n",
      "\n",
      "Identity Matrix: \n",
      "[[1. 0. 0.]\n",
      " [0. 1. 0.]\n",
      " [0. 0. 1.]]\n",
      "\n",
      "Diagonal Matrix: \n",
      "[[1 0 0 0]\n",
      " [0 2 0 0]\n",
      " [0 0 3 0]\n",
      " [0 0 0 4]]\n"
     ]
    }
   ],
   "source": [
    "print(\"3-D Array of ones: \")\n",
    "print(np.ones((3, 3)))\n",
    "print()\n",
    "\n",
    "print(\"2-D Array of zeros: \")\n",
    "print(np.zeros((2, 2)))\n",
    "print()\n",
    "\n",
    "print(\"Identity Matrix: \")\n",
    "print(np.eye(3))\n",
    "print()\n",
    "\n",
    "print(\"Diagonal Matrix: \")\n",
    "print(np.diag(np.array([1, 2, 3, 4])))"
   ]
  },
  {
   "cell_type": "markdown",
   "metadata": {},
   "source": [
    "## Basic Data Types"
   ]
  },
  {
   "cell_type": "markdown",
   "metadata": {},
   "source": []
  }
 ],
 "metadata": {
  "kernelspec": {
   "display_name": "deep-learning-V_fAK4gu-py3.11",
   "language": "python",
   "name": "python3"
  },
  "language_info": {
   "codemirror_mode": {
    "name": "ipython",
    "version": 3
   },
   "file_extension": ".py",
   "mimetype": "text/x-python",
   "name": "python",
   "nbconvert_exporter": "python",
   "pygments_lexer": "ipython3",
   "version": "3.11.5"
  }
 },
 "nbformat": 4,
 "nbformat_minor": 2
}
